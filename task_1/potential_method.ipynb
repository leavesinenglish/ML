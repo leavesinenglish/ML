{
 "cells": [
  {
   "cell_type": "code",
   "execution_count": 1,
   "outputs": [],
   "source": [
    "import matplotlib.pyplot as plt\n",
    "import numpy as np\n",
    "from mpl_toolkits.mplot3d import Axes3D\n",
    "from sklearn import datasets\n",
    "from sklearn import metrics\n",
    "from sklearn.decomposition import PCA\n",
    "from sklearn.model_selection import train_test_split\n",
    "from potential_funct import *\n",
    "from kernels import *"
   ],
   "metadata": {
    "collapsed": false
   }
  },
  {
   "cell_type": "markdown",
   "source": [
    "# Load dataset"
   ],
   "metadata": {
    "collapsed": false
   }
  },
  {
   "cell_type": "code",
   "execution_count": 2,
   "outputs": [],
   "source": [
    "iris = datasets.load_iris()\n",
    "X = iris.data\n",
    "y = iris.target\n",
    "feature_names = iris.feature_names"
   ],
   "metadata": {
    "collapsed": false
   }
  },
  {
   "cell_type": "code",
   "execution_count": 3,
   "outputs": [],
   "source": [
    "train_x, test_x, train_y, test_y = train_test_split(X, y, test_size = 0.5, random_state = 10)"
   ],
   "metadata": {
    "collapsed": false
   }
  },
  {
   "cell_type": "code",
   "execution_count": 4,
   "outputs": [
    {
     "name": "stdout",
     "output_type": "stream",
     "text": [
      "accuracy =  0.9466666666666667\n"
     ]
    }
   ],
   "source": [
    "poten = Potential_method(train_x, train_y, Kernels().Newton, 10, 1)\n",
    "poten.fit()\n",
    "poten.show_accuracy(X, y, test_x, test_y)"
   ],
   "metadata": {
    "collapsed": false
   }
  },
  {
   "cell_type": "code",
   "execution_count": 5,
   "outputs": [
    {
     "name": "stdout",
     "output_type": "stream",
     "text": [
      "Amount of points with nonzero charge = 12\n",
      "Percent of nonzero points = 16.0 %\n"
     ]
    },
    {
     "data": {
      "text/plain": "<Figure size 640x480 with 1 Axes>",
      "image/png": "[encoded data removed]"
     },
     "metadata": {},
     "output_type": "display_data"
    }
   ],
   "source": [
    "highlighted_features = (2, 3)\n",
    "non_zero_points_indexes = poten.indexes\n",
    "highlighted_features_names = (feature_names[highlighted_features[0]], feature_names[highlighted_features[1]])\n",
    "plt.scatter(train_x[:, highlighted_features[0]], train_x[:, highlighted_features[1]], c=train_y)\n",
    "plt.scatter(train_x[:, highlighted_features[0]][non_zero_points_indexes],\n",
    "            train_x[:, highlighted_features[1]][non_zero_points_indexes], c='r', marker='*')\n",
    "plt.xlabel(highlighted_features_names[0])\n",
    "plt.ylabel(highlighted_features_names[1])\n",
    "print(f'Amount of points with nonzero charge = {len(non_zero_points_indexes)}')\n",
    "print(f'Percent of nonzero points = {len(non_zero_points_indexes) / train_x.shape[0] * 100} %')"
   ],
   "metadata": {
    "collapsed": false
   }
  },
  {
   "cell_type": "code",
   "execution_count": 6,
   "outputs": [
    {
     "name": "stdout",
     "output_type": "stream",
     "text": [
      "Amount of bad predictions = 4\n",
      "Percent of bad predictions = 5.333333333333334 %\n"
     ]
    }
   ],
   "source": [
    "mistakes_indexes = poten.get_bad_prediction(test_x, test_y)\n",
    "print(f\"Amount of bad predictions = {len(mistakes_indexes)}\")\n",
    "print(f'Percent of bad predictions = {len(mistakes_indexes) / train_x.shape[0] * 100} %')"
   ],
   "metadata": {
    "collapsed": false
   }
  },
  {
   "cell_type": "markdown",
   "source": [
    "# Kernels"
   ],
   "metadata": {
    "collapsed": false
   }
  },
  {
   "cell_type": "code",
   "execution_count": 7,
   "outputs": [
    {
     "name": "stdout",
     "output_type": "stream",
     "text": [
      "accuracy =  0.9466666666666667\n",
      "Percent of nonzero points = 16.0 %\n"
     ]
    }
   ],
   "source": [
    "potential_classifier = Potential_method(train_x, train_y, Kernels().Newton, 10, 1)\n",
    "potential_classifier.fit()\n",
    "potential_classifier.show_accuracy(train_x, train_y, test_x, test_y)\n",
    "non_zero_points_indexes = potential_classifier.indexes\n",
    "print(f'Percent of nonzero points = {len(non_zero_points_indexes) / train_x.shape[0] * 100} %')"
   ],
   "metadata": {
    "collapsed": false
   }
  },
  {
   "cell_type": "code",
   "execution_count": 8,
   "outputs": [
    {
     "name": "stdout",
     "output_type": "stream",
     "text": [
      "accuracy =  0.9333333333333333\n",
      "Percent of nonzero points = 24.0 %\n"
     ]
    }
   ],
   "source": [
    "potential_classifier = Potential_method(train_x, train_y, Kernels().Tri_cube, 10, 1)\n",
    "potential_classifier.fit()\n",
    "potential_classifier.show_accuracy(train_x, train_y, test_x, test_y)\n",
    "non_zero_points_indexes = potential_classifier.indexes\n",
    "print(f'Percent of nonzero points = {len(non_zero_points_indexes) / train_x.shape[0] * 100} %')"
   ],
   "metadata": {
    "collapsed": false
   }
  },
  {
   "cell_type": "code",
   "execution_count": 9,
   "outputs": [
    {
     "name": "stdout",
     "output_type": "stream",
     "text": [
      "accuracy =  0.92\n",
      "Percent of nonzero points = 20.0 %\n"
     ]
    }
   ],
   "source": [
    "potential_classifier = Potential_method(train_x, train_y, Kernels().Gaussian, 10, 1)\n",
    "potential_classifier.fit()\n",
    "potential_classifier.show_accuracy(train_x, train_y, test_x, test_y)\n",
    "non_zero_points_indexes = potential_classifier.indexes\n",
    "print(f'Percent of nonzero points = {len(non_zero_points_indexes) / train_x.shape[0] * 100} %')"
   ],
   "metadata": {
    "collapsed": false
   }
  },
  {
   "cell_type": "code",
   "execution_count": 10,
   "outputs": [
    {
     "name": "stdout",
     "output_type": "stream",
     "text": [
      "accuracy =  0.92\n",
      "Percent of nonzero points = 20.0 %\n"
     ]
    }
   ],
   "source": [
    "potential_classifier = Potential_method(train_x, train_y, Kernels().Epanechnikov, 10, 1)\n",
    "potential_classifier.fit()\n",
    "potential_classifier.show_accuracy(train_x, train_y, test_x, test_y)\n",
    "non_zero_points_indexes = potential_classifier.indexes\n",
    "print(f'Percent of nonzero points = {len(non_zero_points_indexes) / train_x.shape[0] * 100} %')"
   ],
   "metadata": {
    "collapsed": false
   }
  }
 ],
 "metadata": {
  "kernelspec": {
   "display_name": "Python 3",
   "language": "python",
   "name": "python3"
  },
  "language_info": {
   "codemirror_mode": {
    "name": "ipython",
    "version": 2
   },
   "file_extension": ".py",
   "mimetype": "text/x-python",
   "name": "python",
   "nbconvert_exporter": "python",
   "pygments_lexer": "ipython2",
   "version": "2.7.6"
  }
 },
 "nbformat": 4,
 "nbformat_minor": 0
}
