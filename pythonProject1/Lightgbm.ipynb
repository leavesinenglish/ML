{
 "cells": [
  {
   "cell_type": "code",
   "execution_count": 1,
   "metadata": {
    "collapsed": true
   },
   "outputs": [],
   "source": [
    "import lightgbm as lgb\n",
    "import pandas as pd\n",
    "import numpy as np\n",
    "from sklearn import metrics\n",
    "from sklearn.impute import SimpleImputer\n",
    "from sklearn.preprocessing import LabelEncoder\n",
    "from sklearn.preprocessing import StandardScaler\n",
    "from sklearn.model_selection import train_test_split"
   ]
  },
  {
   "cell_type": "code",
   "execution_count": 2,
   "outputs": [],
   "source": [
    "train_data = pd.read_csv('C:/Users/HUAWEI/ML/pythonProject1/train.csv')\n",
    "test_data = pd.read_csv('C:/Users/HUAWEI/ML/pythonProject1/test.csv')\n",
    "#delete ids\n",
    "train_data = train_data.drop(columns=[\"Id\"])\n",
    "val_ids = test_data[\"Id\"]  #remember for submission\n",
    "test_data = test_data.drop(columns=[\"Id\"])\n",
    "# delete nans\n",
    "for feature in train_data.columns:\n",
    "    percent = train_data[feature].isnull().sum() / train_data.shape[0]\n",
    "    if percent > 0.7:\n",
    "        train_data = train_data.drop(columns=feature)\n",
    "        test_data = test_data.drop(columns=feature)\n",
    "# need to convert data\n",
    "for feature in train_data.columns[:-1]:\n",
    "    if train_data[feature].dtype == 'object':\n",
    "        train_data[feature] = LabelEncoder().fit_transform(train_data[feature])\n",
    "        test_data[feature] = LabelEncoder().fit_transform(test_data[feature])\n",
    "# split\n",
    "X_train, X_test, y_train, y_test = train_test_split(train_data.drop(columns='SalePrice').values,\n",
    "                                                    np.log1p(train_data['SalePrice'].values), test_size=0.2,\n",
    "                                                    random_state=98987)\n",
    "X_train = SimpleImputer(strategy='most_frequent').fit_transform(X_train)\n",
    "X_test = SimpleImputer(strategy='most_frequent').fit_transform(X_test)\n",
    "\n",
    "scaler = StandardScaler()\n",
    "X_train = scaler.fit_transform(X_train, y_train)\n",
    "X_test = scaler.transform(X_test)"
   ],
   "metadata": {
    "collapsed": false
   }
  },
  {
   "cell_type": "code",
   "execution_count": 3,
   "outputs": [
    {
     "name": "stdout",
     "output_type": "stream",
     "text": [
      "Best parameters for LGBM is: {'learning_rate': 0.01, 'max_bins': 512, 'max_depth': 2, 'n_estimators': 5000, 'num_leaves': 10}\n"
     ]
    }
   ],
   "source": [
    "from sklearn.model_selection import GridSearchCV\n",
    "\n",
    "parameters = {\n",
    "    'num_leaves': [10, 30, 60, 90],\n",
    "    'learning_rate': [0.001, 0.005, 0.01],\n",
    "    'max_depth': [2, 4, 6, 8],\n",
    "    'n_estimators': [100, 1000, 5000],\n",
    "    'max_bins': [128, 256, 512], }\n",
    "lgb_model = GridSearchCV(lgb.LGBMRegressor(), parameters)\n",
    "lgb_model.fit(X_train, y_train)\n",
    "print(\"Best parameters for LGBM is: {}\".format(lgb_model.best_params_))"
   ],
   "metadata": {
    "collapsed": false
   }
  },
  {
   "cell_type": "code",
   "execution_count": 4,
   "outputs": [
    {
     "name": "stdout",
     "output_type": "stream",
     "text": [
      "Abs error on train data: 0.05\n",
      "Abs error on test data 0.09:\n"
     ]
    }
   ],
   "source": [
    "lgb_model = lgb.LGBMRegressor(**lgb_model.best_params_)\n",
    "lgb_model.fit(X_train, y_train)\n",
    "print('Abs error on train data: %1.2f'%metrics.mean_absolute_error(lgb_model.predict(X_train), y_train))\n",
    "print('Abs error on test data %1.2f:'%metrics.mean_absolute_error(lgb_model.predict(X_test), y_test))"
   ],
   "metadata": {
    "collapsed": false
   }
  }
 ],
 "metadata": {
  "kernelspec": {
   "display_name": "Python 3",
   "language": "python",
   "name": "python3"
  },
  "language_info": {
   "codemirror_mode": {
    "name": "ipython",
    "version": 2
   },
   "file_extension": ".py",
   "mimetype": "text/x-python",
   "name": "python",
   "nbconvert_exporter": "python",
   "pygments_lexer": "ipython2",
   "version": "2.7.6"
  }
 },
 "nbformat": 4,
 "nbformat_minor": 0
}
