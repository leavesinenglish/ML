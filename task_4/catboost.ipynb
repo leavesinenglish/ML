{
 "cells": [
  {
   "cell_type": "code",
   "execution_count": 5,
   "metadata": {
    "collapsed": true
   },
   "outputs": [],
   "source": [
    "import pandas as pd\n",
    "import numpy as np\n",
    "from sklearn.impute import SimpleImputer\n",
    "from sklearn.model_selection import train_test_split\n",
    "from sklearn import metrics\n",
    "from catboost import CatBoostRegressor, Pool\n",
    "\n",
    "train_data = pd.read_csv('C:/Users/HUAWEI/ML/task_4/train.csv')\n",
    "test_data = pd.read_csv('C:/Users/HUAWEI/ML/task_4/test.csv')\n",
    "train_data = train_data.drop(columns=[\"Id\"])\n",
    "val_ids = test_data[\"Id\"]\n",
    "test_data = test_data.drop(columns=[\"Id\"])\n",
    "\n",
    "for feature in train_data.columns:\n",
    "    percent = train_data[feature].isnull().sum() /  train_data.shape[0]\n",
    "    if (percent > 0.7):\n",
    "        train_data = train_data.drop(columns = feature)\n",
    "        test_data = test_data.drop(columns = feature)\n",
    "\n",
    "cat_features = []\n",
    "iter = 0\n",
    "for feature in train_data.columns[:-1]:\n",
    "    if (train_data[feature].dtype == 'object'): cat_features.append(iter)\n",
    "    iter +=1\n",
    "\n",
    "X_train, X_test, y_train, y_test = train_test_split(train_data.drop(columns='SalePrice').values, np.log1p(train_data['SalePrice'].values), test_size = 0.2, random_state = 98987)\n",
    "X_train = SimpleImputer(strategy='most_frequent').fit_transform(X_train)\n",
    "X_test = SimpleImputer(strategy='most_frequent').fit_transform(X_test)\n",
    "test_data = SimpleImputer(strategy='most_frequent').fit_transform(test_data)"
   ]
  },
  {
   "cell_type": "code",
   "execution_count": 3,
   "outputs": [
    {
     "name": "stdout",
     "output_type": "stream",
     "text": [
      "Error on train:  0.038426950347731775\n",
      "Error on test:  0.08808372671727617\n"
     ]
    }
   ],
   "source": [
    "catr = CatBoostRegressor(cat_features=cat_features)\n",
    "train_pool = Pool(X_train, y_train, cat_features=cat_features)\n",
    "dev_pool = Pool(X_test, y_test, cat_features=cat_features)\n",
    "catr.fit(train_pool, eval_set = dev_pool, verbose = 0, plot = False)\n",
    "\n",
    "print('Error on train: ', metrics.mean_absolute_error(catr.predict(X_train), y_train))\n",
    "print('Error on test: ', metrics.mean_absolute_error(catr.predict(X_test), y_test))"
   ],
   "metadata": {
    "collapsed": false
   }
  },
  {
   "cell_type": "code",
   "execution_count": 6,
   "outputs": [],
   "source": [
    "df = pd.DataFrame({'Id':val_ids.values, 'SalePrice':np.expm1(catr.predict(test_data))})\n",
    "df.to_csv('catBoost.csv',index=False)"
   ],
   "metadata": {
    "collapsed": false
   }
  },
  {
   "cell_type": "code",
   "execution_count": null,
   "outputs": [],
   "source": [],
   "metadata": {
    "collapsed": false
   }
  }
 ],
 "metadata": {
  "kernelspec": {
   "display_name": "Python 3",
   "language": "python",
   "name": "python3"
  },
  "language_info": {
   "codemirror_mode": {
    "name": "ipython",
    "version": 2
   },
   "file_extension": ".py",
   "mimetype": "text/x-python",
   "name": "python",
   "nbconvert_exporter": "python",
   "pygments_lexer": "ipython2",
   "version": "2.7.6"
  }
 },
 "nbformat": 4,
 "nbformat_minor": 0
}
