{
 "cells": [
  {
   "cell_type": "code",
   "execution_count": 7,
   "outputs": [],
   "source": [
    "import pandas as pd\n",
    "import numpy as np\n",
    "from sklearn.impute import SimpleImputer\n",
    "from sklearn.preprocessing import LabelEncoder\n",
    "from sklearn.preprocessing import StandardScaler\n",
    "from sklearn.model_selection import train_test_split\n",
    "from sklearn.model_selection import GridSearchCV\n",
    "from sklearn import metrics\n",
    "\n",
    "train_data = pd.read_csv('C:/Users/HUAWEI/ML/task_4/train.csv')\n",
    "test_data = pd.read_csv('C:/Users/HUAWEI/ML/task_4/test.csv')\n",
    "\n",
    "train_data = train_data.drop(columns=[\"Id\"])\n",
    "val_ids = test_data[\"Id\"]\n",
    "test_data = test_data.drop(columns=[\"Id\"])\n",
    "\n",
    "for feature in train_data.columns:\n",
    "    percent = train_data[feature].isnull().sum() / train_data.shape[0]\n",
    "    if percent > 0.7:\n",
    "        train_data = train_data.drop(columns=feature)\n",
    "        test_data = test_data.drop(columns=feature)\n",
    "\n",
    "for feature in train_data.columns[:-1]:\n",
    "    if train_data[feature].dtype == 'object':\n",
    "        train_data[feature] = LabelEncoder().fit_transform(train_data[feature])\n",
    "        test_data[feature] = LabelEncoder().fit_transform(test_data[feature])\n",
    "\n",
    "X_train, X_test, y_train, y_test = train_test_split(train_data.drop(columns='SalePrice').values,\n",
    "                                                    np.log1p(train_data['SalePrice'].values), test_size=0.2,\n",
    "                                                    random_state=98987)\n",
    "\n",
    "X_train = SimpleImputer(strategy='most_frequent').fit_transform(X_train)\n",
    "X_test = SimpleImputer(strategy='most_frequent').fit_transform(X_test)\n",
    "\n",
    "scaler = StandardScaler()\n",
    "X_train = scaler.fit_transform(X_train, y_train)\n",
    "X_test = scaler.transform(X_test)"
   ],
   "metadata": {
    "collapsed": false
   }
  },
  {
   "cell_type": "markdown",
   "source": [
    "# Random Forest"
   ],
   "metadata": {
    "collapsed": false
   }
  },
  {
   "cell_type": "code",
   "execution_count": 9,
   "outputs": [
    {
     "name": "stdout",
     "output_type": "stream",
     "text": [
      "Best parameters for RFR is: {'criterion': 'squared_error', 'max_depth': 150, 'max_features': 'sqrt', 'min_samples_split': 2, 'n_estimators': 100}\n"
     ]
    }
   ],
   "source": [
    "from sklearn.ensemble import RandomForestRegressor\n",
    "\n",
    "parameters = { 'criterion': ['squared_error', 'absolute_error', 'poisson'],'n_estimators': [10, 50, 75, 100],'max_features': [1.0, 'sqrt', 'log2'],'min_samples_split': [2, 5, 9], 'max_depth': [50, 100, 150, 200, 250], }\n",
    "rfr_model = GridSearchCV(RandomForestRegressor(), parameters)\n",
    "rfr_model.fit(X_train, y_train)\n",
    "print(\"Best parameters for RFR is: {}\".format(rfr_model.best_params_))"
   ],
   "metadata": {
    "collapsed": false
   }
  },
  {
   "cell_type": "code",
   "execution_count": 11,
   "outputs": [
    {
     "name": "stdout",
     "output_type": "stream",
     "text": [
      "Error on train:  0.033981858556500016\n",
      "Error on test:  0.10478053237521023\n"
     ]
    }
   ],
   "source": [
    "rfr = RandomForestRegressor(criterion='squared_error', max_depth=150, max_features='sqrt', min_samples_split=2, n_estimators=100)\n",
    "rfr.fit(X_train, y_train)\n",
    "print('Error on train: ', metrics.mean_absolute_error(rfr.predict(X_train), y_train))\n",
    "print('Error on test: ', metrics.mean_absolute_error(rfr.predict(X_test), y_test))"
   ],
   "metadata": {
    "collapsed": false
   }
  },
  {
   "cell_type": "markdown",
   "source": [
    "# xgboost"
   ],
   "metadata": {
    "collapsed": false
   }
  },
  {
   "cell_type": "code",
   "execution_count": 3,
   "outputs": [
    {
     "name": "stdout",
     "output_type": "stream",
     "text": [
      "Best parameters for XGB is: {'learning_rate': 0.1, 'max_depth': 3, 'min_child_weight': 4, 'n_estimators': 300}\n"
     ]
    }
   ],
   "source": [
    "import xgboost as xgb\n",
    "\n",
    "parameters = {\"learning_rate\": [0.1, 0.2, 0.3],\"max_depth\": [2, 3, 4, 5, 6],\"min_child_weight\": [1, 1.5, 2, 4],\"n_estimators\": [100, 300, 500, 700, 1000]}\n",
    "xgb_model = GridSearchCV(xgb.XGBRegressor(), parameters)\n",
    "xgb_model.fit(X_train, y_train)\n",
    "print(\"Best parameters for XGB is: {}\".format(xgb_model.best_params_))"
   ],
   "metadata": {
    "collapsed": false
   }
  },
  {
   "cell_type": "code",
   "execution_count": 12,
   "outputs": [
    {
     "name": "stdout",
     "output_type": "stream",
     "text": [
      "Error on train:  0.039256612684273856\n",
      "Error on test:  0.0935616141941667\n"
     ]
    }
   ],
   "source": [
    "xgbr = xgb.XGBRegressor(learning_rate=0.1, max_depth=3, min_child_weight=4, n_estimators=300)\n",
    "xgbr.fit(X_train, y_train)\n",
    "print('Error on train: ', metrics.mean_absolute_error(xgbr.predict(X_train), y_train))\n",
    "print('Error on test: ', metrics.mean_absolute_error(xgbr.predict(X_test), y_test))"
   ],
   "metadata": {
    "collapsed": false
   }
  },
  {
   "cell_type": "markdown",
   "source": [
    "# lightgbm"
   ],
   "metadata": {
    "collapsed": false
   },
   "execution_count": 3
  },
  {
   "cell_type": "code",
   "execution_count": 14,
   "outputs": [
    {
     "name": "stdout",
     "output_type": "stream",
     "text": [
      "Best parameters for LGBM is: {'learning_rate': 0.02, 'max_bins': 50, 'max_depth': 2, 'n_estimators': 2000, 'num_leaves': 16}\n"
     ]
    }
   ],
   "source": [
    "import lightgbm as lgbm\n",
    "\n",
    "parameters = {'num_leaves': [16, 32, 64, 128],'learning_rate': [0.005, 0.01, 0.02],'max_depth': [2, 4, 6, 8],'n_estimators': [500, 1000, 2000],'max_bins': [50, 100, 150], }\n",
    "lgb_model = GridSearchCV(lgbm.LGBMRegressor(), parameters)\n",
    "lgb_model.fit(X_train, y_train)\n",
    "print(\"Best parameters for LGBM is: {}\".format(lgb_model.best_params_))"
   ],
   "metadata": {
    "collapsed": false
   }
  },
  {
   "cell_type": "code",
   "execution_count": 15,
   "outputs": [
    {
     "name": "stdout",
     "output_type": "stream",
     "text": [
      "Error on train:  0.05602769974002308\n",
      "Error on test:  0.09109983456299534\n"
     ]
    }
   ],
   "source": [
    "lgbmr = lgbm.LGBMRegressor(num_leaves=16, learning_rate=0.02, max_depth=2, n_estimators=2000, max_bins=50)\n",
    "lgbmr.fit(X_train, y_train)\n",
    "print('Error on train: ', metrics.mean_absolute_error(lgbmr.predict(X_train), y_train))\n",
    "print('Error on test: ', metrics.mean_absolute_error(lgbmr.predict(X_test), y_test))"
   ],
   "metadata": {
    "collapsed": false
   }
  }
 ],
 "metadata": {
  "kernelspec": {
   "display_name": "Python 3",
   "language": "python",
   "name": "python3"
  },
  "language_info": {
   "codemirror_mode": {
    "name": "ipython",
    "version": 2
   },
   "file_extension": ".py",
   "mimetype": "text/x-python",
   "name": "python",
   "nbconvert_exporter": "python",
   "pygments_lexer": "ipython2",
   "version": "2.7.6"
  }
 },
 "nbformat": 4,
 "nbformat_minor": 0
}
